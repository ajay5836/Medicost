{
 "cells": [
  {
   "cell_type": "markdown",
   "id": "f0f83c2a-b5bf-4c7d-bb44-bd62b63cc7fc",
   "metadata": {},
   "source": [
    "# 1. Loading Libraries and Data"
   ]
  },
  {
   "cell_type": "code",
   "execution_count": 34,
   "id": "d5577c09-88c2-4ac1-a4e0-b4af794df99f",
   "metadata": {},
   "outputs": [],
   "source": [
    "library(ggplot2)\n",
    "library(tidyverse)\n",
    "library(GGally)"
   ]
  },
  {
   "cell_type": "code",
   "execution_count": 35,
   "id": "291b7bea-e0e2-421d-b41a-22341b400602",
   "metadata": {},
   "outputs": [],
   "source": [
    "library(caret)\n",
    "library(randomForest)\n",
    "library(rpart)\n",
    "# library(stats)"
   ]
  },
  {
   "cell_type": "code",
   "execution_count": 36,
   "id": "58550723-fbf4-474e-b779-c1faf19c65de",
   "metadata": {},
   "outputs": [],
   "source": [
    "data <- read.csv(\"expenses.csv\")"
   ]
  },
  {
   "cell_type": "markdown",
   "id": "f2ff71bc-9e4b-4ed7-8f87-534f8939d93b",
   "metadata": {},
   "source": [
    "# 2. Data Preprocessing"
   ]
  },
  {
   "cell_type": "code",
   "execution_count": 37,
   "id": "54f9c9e6-5aa0-48cd-bb96-9a8d9643ea69",
   "metadata": {},
   "outputs": [
    {
     "data": {
      "text/plain": [
       "      age            sex                 bmi           children    \n",
       " Min.   :18.00   Length:1338        Min.   :15.96   Min.   :0.000  \n",
       " 1st Qu.:27.00   Class :character   1st Qu.:26.30   1st Qu.:0.000  \n",
       " Median :39.00   Mode  :character   Median :30.40   Median :1.000  \n",
       " Mean   :39.21                      Mean   :30.66   Mean   :1.095  \n",
       " 3rd Qu.:51.00                      3rd Qu.:34.69   3rd Qu.:2.000  \n",
       " Max.   :64.00                      Max.   :53.13   Max.   :5.000  \n",
       "    smoker             region             charges     \n",
       " Length:1338        Length:1338        Min.   : 1122  \n",
       " Class :character   Class :character   1st Qu.: 4740  \n",
       " Mode  :character   Mode  :character   Median : 9382  \n",
       "                                       Mean   :13270  \n",
       "                                       3rd Qu.:16640  \n",
       "                                       Max.   :63770  "
      ]
     },
     "metadata": {},
     "output_type": "display_data"
    }
   ],
   "source": [
    "summary(data)"
   ]
  },
  {
   "cell_type": "code",
   "execution_count": 38,
   "id": "496390b9-7102-444c-97fd-5c7b90199976",
   "metadata": {},
   "outputs": [
    {
     "name": "stdout",
     "output_type": "stream",
     "text": [
      "'data.frame':\t1338 obs. of  7 variables:\n",
      " $ age     : int  19 18 28 33 32 31 46 37 37 60 ...\n",
      " $ sex     : chr  \"female\" \"male\" \"male\" \"male\" ...\n",
      " $ bmi     : num  27.9 33.8 33 22.7 28.9 ...\n",
      " $ children: int  0 1 3 0 0 0 1 3 2 0 ...\n",
      " $ smoker  : chr  \"yes\" \"no\" \"no\" \"no\" ...\n",
      " $ region  : chr  \"southwest\" \"southeast\" \"southeast\" \"northwest\" ...\n",
      " $ charges : num  16885 1726 4449 21984 3867 ...\n"
     ]
    }
   ],
   "source": [
    "str(data)"
   ]
  },
  {
   "cell_type": "code",
   "execution_count": 39,
   "id": "e46fcd06-b7a4-49e2-9f20-676388ead5ab",
   "metadata": {},
   "outputs": [],
   "source": [
    "# converting categorical variables to factor\n",
    "data$sex <- as.factor(data$sex)\n",
    "data$smoker <- as.factor(data$smoker)\n",
    "data$region <- as.factor(data$region)"
   ]
  },
  {
   "cell_type": "code",
   "execution_count": 40,
   "id": "d56b2830-e162-4057-b617-f633e7d218da",
   "metadata": {},
   "outputs": [
    {
     "data": {
      "text/html": [
       "<table class=\"dataframe\">\n",
       "<caption>A data.frame: 2 × 7</caption>\n",
       "<thead>\n",
       "\t<tr><th></th><th scope=col>age</th><th scope=col>sex</th><th scope=col>bmi</th><th scope=col>children</th><th scope=col>smoker</th><th scope=col>region</th><th scope=col>charges</th></tr>\n",
       "\t<tr><th></th><th scope=col>&lt;int&gt;</th><th scope=col>&lt;fct&gt;</th><th scope=col>&lt;dbl&gt;</th><th scope=col>&lt;int&gt;</th><th scope=col>&lt;fct&gt;</th><th scope=col>&lt;fct&gt;</th><th scope=col>&lt;dbl&gt;</th></tr>\n",
       "</thead>\n",
       "<tbody>\n",
       "\t<tr><th scope=row>196</th><td>19</td><td>male</td><td>30.59</td><td>0</td><td>no</td><td>northwest</td><td>1639.563</td></tr>\n",
       "\t<tr><th scope=row>582</th><td>19</td><td>male</td><td>30.59</td><td>0</td><td>no</td><td>northwest</td><td>1639.563</td></tr>\n",
       "</tbody>\n",
       "</table>\n"
      ],
      "text/latex": [
       "A data.frame: 2 × 7\n",
       "\\begin{tabular}{r|lllllll}\n",
       "  & age & sex & bmi & children & smoker & region & charges\\\\\n",
       "  & <int> & <fct> & <dbl> & <int> & <fct> & <fct> & <dbl>\\\\\n",
       "\\hline\n",
       "\t196 & 19 & male & 30.59 & 0 & no & northwest & 1639.563\\\\\n",
       "\t582 & 19 & male & 30.59 & 0 & no & northwest & 1639.563\\\\\n",
       "\\end{tabular}\n"
      ],
      "text/markdown": [
       "\n",
       "A data.frame: 2 × 7\n",
       "\n",
       "| <!--/--> | age &lt;int&gt; | sex &lt;fct&gt; | bmi &lt;dbl&gt; | children &lt;int&gt; | smoker &lt;fct&gt; | region &lt;fct&gt; | charges &lt;dbl&gt; |\n",
       "|---|---|---|---|---|---|---|---|\n",
       "| 196 | 19 | male | 30.59 | 0 | no | northwest | 1639.563 |\n",
       "| 582 | 19 | male | 30.59 | 0 | no | northwest | 1639.563 |\n",
       "\n"
      ],
      "text/plain": [
       "    age sex  bmi   children smoker region    charges \n",
       "196 19  male 30.59 0        no     northwest 1639.563\n",
       "582 19  male 30.59 0        no     northwest 1639.563"
      ]
     },
     "metadata": {},
     "output_type": "display_data"
    }
   ],
   "source": [
    "data[duplicated(data) | duplicated(data, fromLast = TRUE),  ]"
   ]
  },
  {
   "cell_type": "code",
   "execution_count": 41,
   "id": "4da012d7-74e5-421b-a843-607ba0ce759a",
   "metadata": {},
   "outputs": [
    {
     "data": {
      "text/html": [
       "1"
      ],
      "text/latex": [
       "1"
      ],
      "text/markdown": [
       "1"
      ],
      "text/plain": [
       "[1] 1"
      ]
     },
     "metadata": {},
     "output_type": "display_data"
    }
   ],
   "source": [
    "# Total number of duplicate rows\n",
    "sum(duplicated(data))"
   ]
  },
  {
   "cell_type": "code",
   "execution_count": 42,
   "id": "af1980ea-5336-4bee-93ff-058781fa968a",
   "metadata": {},
   "outputs": [
    {
     "data": {
      "text/html": [
       "<style>\n",
       ".dl-inline {width: auto; margin:0; padding: 0}\n",
       ".dl-inline>dt, .dl-inline>dd {float: none; width: auto; display: inline-block}\n",
       ".dl-inline>dt::after {content: \":\\0020\"; padding-right: .5ex}\n",
       ".dl-inline>dt:not(:first-of-type) {padding-left: .5ex}\n",
       "</style><dl class=dl-inline><dt>age</dt><dd>0</dd><dt>sex</dt><dd>0</dd><dt>bmi</dt><dd>0</dd><dt>children</dt><dd>0</dd><dt>smoker</dt><dd>0</dd><dt>region</dt><dd>0</dd><dt>charges</dt><dd>0</dd></dl>\n"
      ],
      "text/latex": [
       "\\begin{description*}\n",
       "\\item[age] 0\n",
       "\\item[sex] 0\n",
       "\\item[bmi] 0\n",
       "\\item[children] 0\n",
       "\\item[smoker] 0\n",
       "\\item[region] 0\n",
       "\\item[charges] 0\n",
       "\\end{description*}\n"
      ],
      "text/markdown": [
       "age\n",
       ":   0sex\n",
       ":   0bmi\n",
       ":   0children\n",
       ":   0smoker\n",
       ":   0region\n",
       ":   0charges\n",
       ":   0\n",
       "\n"
      ],
      "text/plain": [
       "     age      sex      bmi children   smoker   region  charges \n",
       "       0        0        0        0        0        0        0 "
      ]
     },
     "metadata": {},
     "output_type": "display_data"
    }
   ],
   "source": [
    "# checking for the missing values\n",
    "colSums(is.na(data))"
   ]
  },
  {
   "cell_type": "code",
   "execution_count": 43,
   "id": "e66954df-0345-4c68-90c2-01ea3bf5f223",
   "metadata": {},
   "outputs": [],
   "source": [
    "norm_data <- data\n",
    "num_cols <- c(\"age\", \"bmi\", \"children\", \"charges\")\n",
    "norm_data[num_cols] <- as.data.frame(scale(norm_data[num_cols]))\n",
    "#use  norm_data for linear Regression and  use original data for other models like decision trees and random forest"
   ]
  },
  {
   "cell_type": "markdown",
   "id": "b1e41106-f976-484b-a83b-5158069d275d",
   "metadata": {},
   "source": [
    "# 3. EDA (Exploratory Data Analysis)"
   ]
  },
  {
   "cell_type": "markdown",
   "id": "2301c86c-931f-43ce-ae57-e6f5ff034bc8",
   "metadata": {},
   "source": [
    "## 3.1Univariate Analysis"
   ]
  },
  {
   "cell_type": "code",
   "execution_count": 44,
   "id": "ed61e58f-1f8a-4356-80bb-5f81f0fe8387",
   "metadata": {},
   "outputs": [],
   "source": [
    "mean_age <- mean(data$age, na.rm = TRUE) \n",
    "median_age <- median(data$age, na.rm = TRUE)\n",
    "get_mode <- function(x){\n",
    "    ux <- unique(x)\n",
    "    ux [which.max(tabulate(match(x,ux)))]\n",
    "}\n",
    "mode_age <- get_mode(data$age)"
   ]
  },
  {
   "cell_type": "code",
   "execution_count": 45,
   "id": "39f0fcc1-76ea-4dca-bf49-3b36b2746dca",
   "metadata": {},
   "outputs": [
    {
     "data": {
      "text/html": [
       "39.2070254110613"
      ],
      "text/latex": [
       "39.2070254110613"
      ],
      "text/markdown": [
       "39.2070254110613"
      ],
      "text/plain": [
       "[1] 39.20703"
      ]
     },
     "metadata": {},
     "output_type": "display_data"
    },
    {
     "data": {
      "text/html": [
       "39"
      ],
      "text/latex": [
       "39"
      ],
      "text/markdown": [
       "39"
      ],
      "text/plain": [
       "[1] 39"
      ]
     },
     "metadata": {},
     "output_type": "display_data"
    },
    {
     "data": {
      "text/html": [
       "18"
      ],
      "text/latex": [
       "18"
      ],
      "text/markdown": [
       "18"
      ],
      "text/plain": [
       "[1] 18"
      ]
     },
     "metadata": {},
     "output_type": "display_data"
    }
   ],
   "source": [
    "mean_age\n",
    "median_age\n",
    "mode_age"
   ]
  },
  {
   "cell_type": "code",
   "execution_count": 46,
   "id": "e88e53fc-2e11-461b-809a-7fa6ccd02891",
   "metadata": {},
   "outputs": [
    {
     "data": {
      "image/png": "[encoded data removed]",
      "text/plain": [
       "Plot with title \"Skewness Visualization of Age\""
      ]
     },
     "metadata": {
      "image/png": {
       "height": 420,
       "width": 420
      }
     },
     "output_type": "display_data"
    }
   ],
   "source": [
    "# Plot density plot\n",
    "plot(density(data$age), \n",
    "     main = \"Skewness Visualization of Age\", \n",
    "     xlab = \"Age\", \n",
    "     ylab = \"Density\", \n",
    "     col = \"gray\", \n",
    "     lwd = 2)\n",
    "\n",
    "# Add vertical lines for mean, median, mode\n",
    "abline(v = mean_age, col = \"red\", lwd = 2, lty = 2)\n",
    "abline(v = median_age, col = \"green\", lwd = 2, lty = 2)\n",
    "abline(v = mode_age, col = \"blue\", lwd = 2, lty = 2)\n",
    "\n",
    "# Add legend\n",
    "legend(\"topright\", \n",
    "       legend = c(\"Mean\", \"Median\", \"Mode\"), \n",
    "       col = c(\"red\", \"green\", \"blue\"), \n",
    "       lty = 2, \n",
    "       lwd = 2)\n",
    "\n",
    "# Optional: add rug plot (marks on x-axis)\n",
    "rug(data$age)"
   ]
  },
  {
   "cell_type": "code",
   "execution_count": 47,
   "id": "d0cfbc88-7603-4013-921f-33689ca1db01",
   "metadata": {},
   "outputs": [
    {
     "data": {
      "image/png": "[encoded data removed]",
      "text/plain": [
       "plot without title"
      ]
     },
     "metadata": {
      "image/png": {
       "height": 420,
       "width": 420
      }
     },
     "output_type": "display_data"
    }
   ],
   "source": [
    "data %>%\n",
    "  select(age, bmi, children, charges) %>%\n",
    "  pivot_longer(cols = everything(), names_to = \"Feature\", values_to = \"Value\") %>%\n",
    "  ggplot(aes(x = Value)) +\n",
    "  facet_wrap(~ Feature, scales = \"free\", ncol = 2) +\n",
    "  geom_histogram(fill = \"steelblue\", color = \"white\", bins = 30) +\n",
    "  theme_minimal() +\n",
    "  labs(title = \"Histograms of Numerical Features\",\n",
    "       x = \"Value\", y = \"Frequency\")"
   ]
  },
  {
   "cell_type": "code",
   "execution_count": 48,
   "id": "05068699-60ed-4e57-a1f1-b3995e605928",
   "metadata": {},
   "outputs": [
    {
     "data": {
      "image/png": "[encoded data removed]",
      "text/plain": [
       "plot without title"
      ]
     },
     "metadata": {
      "image/png": {
       "height": 420,
       "width": 420
      }
     },
     "output_type": "display_data"
    },
    {
     "data": {
      "image/png": "[encoded data removed]",
      "text/plain": [
       "plot without title"
      ]
     },
     "metadata": {
      "image/png": {
       "height": 420,
       "width": 420
      }
     },
     "output_type": "display_data"
    },
    {
     "data": {
      "image/png": "[encoded data removed]",
      "text/plain": [
       "plot without title"
      ]
     },
     "metadata": {
      "image/png": {
       "height": 420,
       "width": 420
      }
     },
     "output_type": "display_data"
    }
   ],
   "source": [
    "# Bar plots for categorical features\n",
    "ggplot(data, aes(x = sex)) + geom_bar(fill = \"skyblue\") + ggtitle(\"Sex Distribution\")\n",
    "ggplot(data, aes(x = smoker)) + geom_bar(fill = \"salmon\") + ggtitle(\"Smoker Distribution\")\n",
    "ggplot(data, aes(x = region)) + geom_bar(fill = \"lightgreen\") + ggtitle(\"Region Distribution\")"
   ]
  },
  {
   "cell_type": "markdown",
   "id": "6470bc2c-445d-4188-b954-cee9ab1fd96e",
   "metadata": {},
   "source": [
    "## 3.2Bivariate Analysis"
   ]
  },
  {
   "cell_type": "code",
   "execution_count": 49,
   "id": "03aec2dd-201c-437b-bc2c-7d2427c70b59",
   "metadata": {},
   "outputs": [
    {
     "data": {
      "image/png": "[encoded data removed]",
      "text/plain": [
       "plot without title"
      ]
     },
     "metadata": {
      "image/png": {
       "height": 420,
       "width": 420
      }
     },
     "output_type": "display_data"
    }
   ],
   "source": [
    "# Plot: Age Vs Charges\n",
    "\n",
    "ggplot(data, aes(x = age, y = charges)) + \n",
    "    geom_point(color = 'blue') +\n",
    "    labs(title = 'Age vs Medical Charges',\n",
    "         x = 'Age',\n",
    "         y = 'Charges') +\n",
    "    theme_minimal()"
   ]
  },
  {
   "cell_type": "code",
   "execution_count": 50,
   "id": "770b1c6e-d24d-4009-bb82-4fa3336da380",
   "metadata": {},
   "outputs": [
    {
     "data": {
      "image/png": "[encoded data removed]",
      "text/plain": [
       "plot without title"
      ]
     },
     "metadata": {
      "image/png": {
       "height": 420,
       "width": 420
      }
     },
     "output_type": "display_data"
    },
    {
     "data": {
      "image/png": "[encoded data removed]",
      "text/plain": [
       "plot without title"
      ]
     },
     "metadata": {
      "image/png": {
       "height": 420,
       "width": 420
      }
     },
     "output_type": "display_data"
    }
   ],
   "source": [
    "# Boxplots: Charges vs categorical\n",
    "ggplot(data, aes(x = smoker, y = charges)) + geom_boxplot(fill = \"orange\") + ggtitle(\"Charges vs Smoker\")\n",
    "ggplot(data, aes(x = sex, y = charges)) + geom_boxplot(fill = \"purple\") + ggtitle(\"Charges vs Sex\")"
   ]
  },
  {
   "cell_type": "code",
   "execution_count": 51,
   "id": "0c8c0e22-3486-4208-8491-b6e2b2749acd",
   "metadata": {},
   "outputs": [
    {
     "data": {
      "image/png": "[encoded data removed]",
      "text/plain": [
       "plot without title"
      ]
     },
     "metadata": {
      "image/png": {
       "height": 420,
       "width": 420
      }
     },
     "output_type": "display_data"
    }
   ],
   "source": [
    "# Scatter plot: BMI vs Charges\n",
    "ggplot(data, aes(x = bmi, y = charges, color = smoker)) +\n",
    "  geom_point(alpha = 0.6) + ggtitle(\"BMI vs Charges\")"
   ]
  },
  {
   "cell_type": "code",
   "execution_count": 52,
   "id": "b9a35245-a412-4841-af05-1e2551ae228c",
   "metadata": {},
   "outputs": [
    {
     "name": "stdout",
     "output_type": "stream",
     "text": [
      "               age       bmi   children    charges\n",
      "age      1.0000000 0.1092719 0.04246900 0.29900819\n",
      "bmi      0.1092719 1.0000000 0.01275890 0.19834097\n",
      "children 0.0424690 0.0127589 1.00000000 0.06799823\n",
      "charges  0.2990082 0.1983410 0.06799823 1.00000000\n"
     ]
    }
   ],
   "source": [
    "# Correlation matrix for numeric columns\n",
    "# Calculate correlation matrix\n",
    "cor_matrix <- cor(data[num_cols])\n",
    "# Print the matrix as numbers\n",
    "print(cor_matrix)"
   ]
  },
  {
   "cell_type": "markdown",
   "id": "2ab986da-f95b-4f22-aeb1-8dce82286a02",
   "metadata": {},
   "source": [
    "## 3.3Multivariate Analysis"
   ]
  },
  {
   "cell_type": "code",
   "execution_count": 53,
   "id": "386d889f-94ec-41c3-a57d-d9fa60b523c5",
   "metadata": {},
   "outputs": [
    {
     "data": {
      "image/png": "[encoded data removed]",
      "text/plain": [
       "plot without title"
      ]
     },
     "metadata": {
      "image/png": {
       "height": 420,
       "width": 420
      }
     },
     "output_type": "display_data"
    }
   ],
   "source": [
    "# Pair plot\n",
    "GGally::ggpairs(data, columns = c(\"age\", \"bmi\", \"children\", \"charges\"), aes(color = smoker))"
   ]
  },
  {
   "cell_type": "markdown",
   "id": "6a8854c2-419d-4b5c-b98f-3b36f585f83f",
   "metadata": {},
   "source": [
    "# 4. Machine Learning"
   ]
  },
  {
   "cell_type": "markdown",
   "id": "e1d9c2fd-2f9c-48bf-904a-6002b8dfe62a",
   "metadata": {},
   "source": [
    "## 4.1Splitting the Data into Training and Testing Sets"
   ]
  },
  {
   "cell_type": "code",
   "execution_count": 54,
   "id": "bd8bc472-576c-4917-b89d-cb0a0ac39832",
   "metadata": {},
   "outputs": [
    {
     "data": {
      "text/html": [
       "<style>\n",
       ".list-inline {list-style: none; margin:0; padding: 0}\n",
       ".list-inline>li {display: inline-block}\n",
       ".list-inline>li:not(:last-child)::after {content: \"\\00b7\"; padding: 0 .5ex}\n",
       "</style>\n",
       "<ol class=list-inline><li>1072</li><li>7</li></ol>\n"
      ],
      "text/latex": [
       "\\begin{enumerate*}\n",
       "\\item 1072\n",
       "\\item 7\n",
       "\\end{enumerate*}\n"
      ],
      "text/markdown": [
       "1. 1072\n",
       "2. 7\n",
       "\n",
       "\n"
      ],
      "text/plain": [
       "[1] 1072    7"
      ]
     },
     "metadata": {},
     "output_type": "display_data"
    },
    {
     "data": {
      "text/html": [
       "<style>\n",
       ".list-inline {list-style: none; margin:0; padding: 0}\n",
       ".list-inline>li {display: inline-block}\n",
       ".list-inline>li:not(:last-child)::after {content: \"\\00b7\"; padding: 0 .5ex}\n",
       "</style>\n",
       "<ol class=list-inline><li>266</li><li>7</li></ol>\n"
      ],
      "text/latex": [
       "\\begin{enumerate*}\n",
       "\\item 266\n",
       "\\item 7\n",
       "\\end{enumerate*}\n"
      ],
      "text/markdown": [
       "1. 266\n",
       "2. 7\n",
       "\n",
       "\n"
      ],
      "text/plain": [
       "[1] 266   7"
      ]
     },
     "metadata": {},
     "output_type": "display_data"
    }
   ],
   "source": [
    "# Split the data into training and testing sets (80% training, 20% testing)\n",
    "set.seed(123)  # For reproducibility\n",
    "split <- createDataPartition(data$charges, p = 0.8, list = FALSE)\n",
    "train_data <- data[split, ]\n",
    "test_data <- data[-split, ]\n",
    "\n",
    "# Check the dimensions of the split data\n",
    "dim(train_data)\n",
    "dim(test_data)"
   ]
  },
  {
   "cell_type": "markdown",
   "id": "8f72e9fd-a97b-44d7-917b-c030cde82415",
   "metadata": {},
   "source": [
    "## 4.2Preprocessing the Data (Optional Scaling)"
   ]
  },
  {
   "cell_type": "code",
   "execution_count": 55,
   "id": "9e42d8e1-c188-46b1-a171-9fd960ba36d0",
   "metadata": {},
   "outputs": [],
   "source": [
    "# Scale the numerical features (age, bmi, children, charges)\n",
    "num_cols <- c(\"age\", \"bmi\", \"children\", \"charges\")\n",
    "\n",
    "# Preprocessing: Scale numeric features in training and testing sets\n",
    "pre_proc <- preProcess(train_data[, num_cols], method = \"scale\")\n",
    "saveRDS(pre_proc, \"pre_proc.rds\")\n",
    "train_data_scaled <- predict(pre_proc, train_data[, num_cols])\n",
    "test_data_scaled <- predict(pre_proc, test_data[, num_cols])\n",
    "\n",
    "# Add back the non-numeric columns\n",
    "train_data <- cbind(train_data[, setdiff(names(train_data), num_cols)], train_data_scaled)\n",
    "test_data <- cbind(test_data[, setdiff(names(test_data), num_cols)], test_data_scaled)\n"
   ]
  },
  {
   "cell_type": "markdown",
   "id": "47881024-b494-4bc0-ae63-d8618ad50edf",
   "metadata": {},
   "source": [
    "## 4.3Training the Models"
   ]
  },
  {
   "cell_type": "markdown",
   "id": "86a46acf-ff68-4ce1-b882-9f82bb93aa6d",
   "metadata": {},
   "source": [
    "### 4.3.1Linear Regression"
   ]
  },
  {
   "cell_type": "code",
   "execution_count": 56,
   "id": "6568098c-1752-4d35-9ed0-46c607d402b5",
   "metadata": {},
   "outputs": [
    {
     "name": "stdout",
     "output_type": "stream",
     "text": [
      "Linear Regression - MAE: 0.3429593 \n",
      "Linear Regression - RMSE: 0.5153057 \n",
      "Linear Regression - R2: 0.711344 \n",
      "Linear Regression Accuracy (R²): 0.7113 \n"
     ]
    }
   ],
   "source": [
    "# Train a linear regression model\n",
    "lm_model <- lm(charges ~ age + bmi + children + smoker + region, data = train_data)\n",
    "\n",
    "# Make predictions on the test set\n",
    "lm_predictions <- predict(lm_model, newdata = test_data)\n",
    "\n",
    "# Evaluate the model\n",
    "lm_mae <- mean(abs(lm_predictions - test_data$charges))\n",
    "lm_rmse <- sqrt(mean((lm_predictions - test_data$charges)^2))\n",
    "lm_r2 <- 1 - (sum((test_data$charges - lm_predictions)^2) / sum((test_data$charges - mean(test_data$charges))^2))\n",
    "\n",
    "# Print evaluation metrics\n",
    "cat(\"Linear Regression - MAE:\", lm_mae, \"\\n\")\n",
    "cat(\"Linear Regression - RMSE:\", lm_rmse, \"\\n\")\n",
    "cat(\"Linear Regression - R2:\", lm_r2, \"\\n\")\n",
    "\n",
    "lm_r2 <- 1 - sum((test_data$charges - lm_predictions)^2) / sum((test_data$charges - mean(test_data$charges))^2)\n",
    "cat(\"Linear Regression Accuracy (R²):\", round(lm_r2, 4), \"\\n\")\n"
   ]
  },
  {
   "cell_type": "markdown",
   "id": "3fb1bb9c-d45b-400f-b3c8-8cb8a69f12e8",
   "metadata": {},
   "source": [
    "# Training Tree Based Models"
   ]
  },
  {
   "cell_type": "code",
   "execution_count": 57,
   "id": "10f3dbe8-2b66-4af1-84b2-0178e78566d8",
   "metadata": {},
   "outputs": [
    {
     "data": {
      "text/html": [
       "<style>\n",
       ".list-inline {list-style: none; margin:0; padding: 0}\n",
       ".list-inline>li {display: inline-block}\n",
       ".list-inline>li:not(:last-child)::after {content: \"\\00b7\"; padding: 0 .5ex}\n",
       "</style>\n",
       "<ol class=list-inline><li>1072</li><li>7</li></ol>\n"
      ],
      "text/latex": [
       "\\begin{enumerate*}\n",
       "\\item 1072\n",
       "\\item 7\n",
       "\\end{enumerate*}\n"
      ],
      "text/markdown": [
       "1. 1072\n",
       "2. 7\n",
       "\n",
       "\n"
      ],
      "text/plain": [
       "[1] 1072    7"
      ]
     },
     "metadata": {},
     "output_type": "display_data"
    },
    {
     "data": {
      "text/html": [
       "<style>\n",
       ".list-inline {list-style: none; margin:0; padding: 0}\n",
       ".list-inline>li {display: inline-block}\n",
       ".list-inline>li:not(:last-child)::after {content: \"\\00b7\"; padding: 0 .5ex}\n",
       "</style>\n",
       "<ol class=list-inline><li>266</li><li>7</li></ol>\n"
      ],
      "text/latex": [
       "\\begin{enumerate*}\n",
       "\\item 266\n",
       "\\item 7\n",
       "\\end{enumerate*}\n"
      ],
      "text/markdown": [
       "1. 266\n",
       "2. 7\n",
       "\n",
       "\n"
      ],
      "text/plain": [
       "[1] 266   7"
      ]
     },
     "metadata": {},
     "output_type": "display_data"
    }
   ],
   "source": [
    "data = read.csv(\"expenses.csv\")\n",
    "data$sex <- as.factor(data$sex)\n",
    "data$smoker <- as.factor(data$smoker)\n",
    "data$region <- as.factor(data$region)\n",
    "\n",
    "set.seed(123)\n",
    "split <- createDataPartition(data$charges, p = 0.8, list = FALSE)\n",
    "\n",
    "train_data <- data[split, ]\n",
    "test_data <- data[-split, ]\n",
    "# Check the dimensions of the split data\n",
    "dim(train_data)\n",
    "dim(test_data)"
   ]
  },
  {
   "cell_type": "markdown",
   "id": "13fa07cd-7f05-494f-a31e-2f7691860880",
   "metadata": {},
   "source": [
    "### 4.3.2Decision Tree"
   ]
  },
  {
   "cell_type": "code",
   "execution_count": 58,
   "id": "c5bf7d5e-ebc0-4f6d-94f3-1120928ce877",
   "metadata": {},
   "outputs": [
    {
     "name": "stdout",
     "output_type": "stream",
     "text": [
      "Decision Tree - MAE: 3407.539 \n",
      "Decision Tree - RMSE: 5316.753 \n",
      "Decision Tree - R2: 0.7937918 \n",
      "Decision Tree Accuracy (R²): 0.7938 \n"
     ]
    }
   ],
   "source": [
    "# Train a decision tree model\n",
    "dt_model <- rpart(charges ~ age + bmi + children + smoker + region, data = train_data)\n",
    "\n",
    "# Make predictions on the test set\n",
    "dt_predictions <- predict(dt_model, newdata = test_data)\n",
    "\n",
    "# Evaluate the model\n",
    "dt_mae <- mean(abs(dt_predictions - test_data$charges))\n",
    "dt_rmse <- sqrt(mean((dt_predictions - test_data$charges)^2))\n",
    "dt_r2 <- 1 - (sum((test_data$charges - dt_predictions)^2) / sum((test_data$charges - mean(test_data$charges))^2))\n",
    "\n",
    "# Print evaluation metrics\n",
    "cat(\"Decision Tree - MAE:\", dt_mae, \"\\n\")\n",
    "cat(\"Decision Tree - RMSE:\", dt_rmse, \"\\n\")\n",
    "cat(\"Decision Tree - R2:\", dt_r2, \"\\n\")\n",
    "\n",
    "dt_r2 <- 1 - sum((test_data$charges - dt_predictions)^2) / sum((test_data$charges - mean(test_data$charges))^2)\n",
    "cat(\"Decision Tree Accuracy (R²):\", round(dt_r2, 4), \"\\n\")\n"
   ]
  },
  {
   "cell_type": "markdown",
   "id": "f3dc028d-3314-4858-96d9-864c4b45c3e5",
   "metadata": {},
   "source": [
    "### 4.3.3Random Forest"
   ]
  },
  {
   "cell_type": "code",
   "execution_count": 59,
   "id": "e54bccdc-ce55-4d7b-8197-2995fe74c189",
   "metadata": {},
   "outputs": [
    {
     "name": "stdout",
     "output_type": "stream",
     "text": [
      "Random Forest - MAE: 4265.251 \n",
      "Random Forest - RMSE: 5962.713 \n",
      "Random Forest - R2: 0.7406413 \n",
      "Random Forest Accuracy (R²): 0.7406 \n"
     ]
    }
   ],
   "source": [
    "# Train a random forest model\n",
    "rf_model <- randomForest(charges ~ age + bmi + children + smoker + region, data = train_data)\n",
    "\n",
    "# Make predictions on the test set\n",
    "rf_predictions <- predict(rf_model, newdata = test_data)\n",
    "\n",
    "# Evaluate the model\n",
    "rf_mae <- mean(abs(rf_predictions - test_data$charges))\n",
    "rf_rmse <- sqrt(mean((rf_predictions - test_data$charges)^2))\n",
    "rf_r2 <- 1 - (sum((test_data$charges - rf_predictions)^2) / sum((test_data$charges - mean(test_data$charges))^2))\n",
    "\n",
    "# Print evaluation metrics\n",
    "cat(\"Random Forest - MAE:\", rf_mae, \"\\n\")\n",
    "cat(\"Random Forest - RMSE:\", rf_rmse, \"\\n\")\n",
    "cat(\"Random Forest - R2:\", rf_r2, \"\\n\")\n",
    "\n",
    "\n",
    "rf_r2 <- 1 - sum((test_data$charges - rf_predictions)^2) / sum((test_data$charges - mean(test_data$charges))^2)\n",
    "cat(\"Random Forest Accuracy (R²):\", round(rf_r2, 4), \"\\n\")\n",
    "\n"
   ]
  },
  {
   "cell_type": "markdown",
   "id": "a2fd76cf-cfae-4e3f-a43c-c4d8eba7a9ae",
   "metadata": {},
   "source": [
    "## 4.4Model Comparison"
   ]
  },
  {
   "cell_type": "code",
   "execution_count": 60,
   "id": "b737a950-0055-43e5-9532-9f9d6e453a66",
   "metadata": {},
   "outputs": [
    {
     "name": "stdout",
     "output_type": "stream",
     "text": [
      "              Model          MAE         RMSE        R2\n",
      "1 Linear Regression    0.3429593    0.5153057 0.7113440\n",
      "2     Decision Tree 3407.5392637 5316.7531169 0.7937918\n",
      "3     Random Forest 4265.2513368 5962.7134161 0.7406413\n"
     ]
    }
   ],
   "source": [
    "# Create a summary table for model comparison\n",
    "model_comparison <- data.frame(\n",
    "  Model = c(\"Linear Regression\", \"Decision Tree\", \"Random Forest\"),\n",
    "  MAE = c(lm_mae, dt_mae, rf_mae),\n",
    "  RMSE = c(lm_rmse, dt_rmse, rf_rmse),\n",
    "  R2 = c(lm_r2, dt_r2, rf_r2)\n",
    ")\n",
    "\n",
    "# Print model comparison table\n",
    "print(model_comparison)\n"
   ]
  },
  {
   "cell_type": "markdown",
   "id": "61710e8a-201b-4d60-a5e4-61418f8f37ed",
   "metadata": {},
   "source": [
    "# Saving the Models"
   ]
  },
  {
   "cell_type": "code",
   "execution_count": 61,
   "id": "dd31aa65-aeb2-4b33-8909-4799b856a4c0",
   "metadata": {},
   "outputs": [],
   "source": [
    "#Saving the Random Forest and Decision Tree Model\n",
    "saveRDS(rf_model, \"model_rf.rds\")\n",
    "saveRDS(dt_model, \"model_dt.rds\")"
   ]
  },
  {
   "cell_type": "code",
   "execution_count": null,
   "id": "450f8f9e-054e-47d8-83a2-f39ba5fd050c",
   "metadata": {},
   "outputs": [],
   "source": []
  }
 ],
 "metadata": {
  "kernelspec": {
   "display_name": "R",
   "language": "R",
   "name": "ir"
  },
  "language_info": {
   "codemirror_mode": "r",
   "file_extension": ".r",
   "mimetype": "text/x-r-source",
   "name": "R",
   "pygments_lexer": "r",
   "version": "4.4.3"
  }
 },
 "nbformat": 4,
 "nbformat_minor": 5
}
